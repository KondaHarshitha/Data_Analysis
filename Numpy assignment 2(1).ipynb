{
 "cells": [
  {
   "cell_type": "code",
   "execution_count": 4,
   "id": "29693930",
   "metadata": {},
   "outputs": [],
   "source": [
    "import numpy as np\n",
    "op=np.genfromtxt(r\"C:\\Users\\DELL\\Downloads\\tipsf.csv\",delimiter=\",\",skip_header=1)"
   ]
  },
  {
   "cell_type": "markdown",
   "id": "5649b386",
   "metadata": {},
   "source": [
    "# 1. what is the total bill value"
   ]
  },
  {
   "cell_type": "code",
   "execution_count": 5,
   "id": "157c9f3a",
   "metadata": {
    "scrolled": true
   },
   "outputs": [
    {
     "data": {
      "text/plain": [
       "4827.77"
      ]
     },
     "execution_count": 5,
     "metadata": {},
     "output_type": "execute_result"
    }
   ],
   "source": [
    "import numpy as np\n",
    "total_bill=op[:,1]\n",
    "np.sum(total_bill)"
   ]
  },
  {
   "cell_type": "markdown",
   "id": "3f5a5522",
   "metadata": {},
   "source": [
    "# 2.what is the total tip value"
   ]
  },
  {
   "cell_type": "code",
   "execution_count": 6,
   "id": "9014c40b",
   "metadata": {},
   "outputs": [
    {
     "data": {
      "text/plain": [
       "731.5799999999999"
      ]
     },
     "execution_count": 6,
     "metadata": {},
     "output_type": "execute_result"
    }
   ],
   "source": [
    "tip=op[:,2]\n",
    "np.sum(tip)"
   ]
  },
  {
   "cell_type": "markdown",
   "id": "813bf210",
   "metadata": {},
   "source": [
    "# 3.count how many sat,sun thur,friday are there"
   ]
  },
  {
   "cell_type": "code",
   "execution_count": 7,
   "id": "57bbceb9",
   "metadata": {},
   "outputs": [
    {
     "data": {
      "text/plain": [
       "(array([0., 1., 2., 3.]), array([87, 76, 62, 19], dtype=int64))"
      ]
     },
     "execution_count": 7,
     "metadata": {},
     "output_type": "execute_result"
    }
   ],
   "source": [
    "days=op[:,5]\n",
    "H=np.unique(days,return_counts=True)\n",
    "H"
   ]
  },
  {
   "cell_type": "markdown",
   "id": "cfb5a33f",
   "metadata": {},
   "source": [
    "# 4.How many smokers are there"
   ]
  },
  {
   "cell_type": "code",
   "execution_count": 8,
   "id": "8c9f59bc",
   "metadata": {},
   "outputs": [
    {
     "data": {
      "text/plain": [
       "(array([0., 1.]), array([151,  93], dtype=int64))"
      ]
     },
     "execution_count": 8,
     "metadata": {},
     "output_type": "execute_result"
    }
   ],
   "source": [
    "smoker=op[:,4]\n",
    "H=np.unique(smoker,return_counts=True)\n",
    "H"
   ]
  },
  {
   "cell_type": "markdown",
   "id": "3f3261ad",
   "metadata": {},
   "source": [
    "# 5.What is the avg tip given by the female and male"
   ]
  },
  {
   "cell_type": "code",
   "execution_count": 9,
   "id": "2562e914",
   "metadata": {},
   "outputs": [
    {
     "name": "stdout",
     "output_type": "stream",
     "text": [
      "2.8334482758620685 average tip given by female\n",
      "3.0896178343949043 average tip given by male\n"
     ]
    }
   ],
   "source": [
    "import numpy as np\n",
    "r=np.sum(op[:,2].take(np.where(op[:,3]==0)))\n",
    "k=np.sum(op[:,2].take(np.where(op[:,3]==1)))\n",
    "b=np.unique(op[:,3],return_counts=True)\n",
    "q,a=b\n",
    "print(r/a[0],\"average tip given by female\")\n",
    "print(k/a[1],\"average tip given by male\")"
   ]
  },
  {
   "cell_type": "markdown",
   "id": "ef13ab9e",
   "metadata": {},
   "source": [
    "# 6.How much amount have been spent by the female and male"
   ]
  },
  {
   "cell_type": "code",
   "execution_count": 10,
   "id": "2e603f45",
   "metadata": {},
   "outputs": [
    {
     "name": "stdout",
     "output_type": "stream",
     "text": [
      "total amount spent by female:  1571.0\n",
      "total amount spent by male:  3257.0\n"
     ]
    }
   ],
   "source": [
    "a=np.sum(op[:,1].take(np.where(op[:,3]==0)))\n",
    "b=np.sum(op[:,1].take(np.where(op[:,3]==1)))\n",
    "print(\"total amount spent by female: \",np.round(a))\n",
    "print(\"total amount spent by male: \",np.round(b))"
   ]
  },
  {
   "cell_type": "markdown",
   "id": "187924a7",
   "metadata": {},
   "source": [
    "# 7.How many male and female are going for the dinner and lunch "
   ]
  },
  {
   "cell_type": "code",
   "execution_count": null,
   "id": "f7cbac98",
   "metadata": {},
   "outputs": [],
   "source": []
  },
  {
   "cell_type": "markdown",
   "id": "cb53b672",
   "metadata": {},
   "source": [
    "# 8. what is the min and max tip given"
   ]
  },
  {
   "cell_type": "code",
   "execution_count": 52,
   "id": "ffd7a719",
   "metadata": {},
   "outputs": [
    {
     "data": {
      "text/plain": [
       "1.0"
      ]
     },
     "execution_count": 52,
     "metadata": {},
     "output_type": "execute_result"
    }
   ],
   "source": [
    "tip=op[:,2]\n",
    "np.min(tip)"
   ]
  },
  {
   "cell_type": "code",
   "execution_count": 53,
   "id": "84db5f91",
   "metadata": {},
   "outputs": [
    {
     "data": {
      "text/plain": [
       "10.0"
      ]
     },
     "execution_count": 53,
     "metadata": {},
     "output_type": "execute_result"
    }
   ],
   "source": [
    "tip=op[:,2]\n",
    "np.max(tip)"
   ]
  },
  {
   "cell_type": "markdown",
   "id": "82d600bd",
   "metadata": {},
   "source": [
    "# 9.Find out the avg size"
   ]
  },
  {
   "cell_type": "code",
   "execution_count": 48,
   "id": "fbc129b3",
   "metadata": {},
   "outputs": [
    {
     "data": {
      "text/plain": [
       "2.569672131147541"
      ]
     },
     "execution_count": 48,
     "metadata": {},
     "output_type": "execute_result"
    }
   ],
   "source": [
    "size=op[:,7]\n",
    "np.mean(size)"
   ]
  },
  {
   "cell_type": "markdown",
   "id": "d595d592",
   "metadata": {},
   "source": [
    "# 10.How many female smokers are there and male smokers are there"
   ]
  },
  {
   "cell_type": "code",
   "execution_count": 11,
   "id": "190c2350",
   "metadata": {},
   "outputs": [
    {
     "name": "stdout",
     "output_type": "stream",
     "text": [
      "female smokers are : 33\n",
      "male smokers are : 60\n"
     ]
    }
   ],
   "source": [
    "\n",
    "k=np.unique(op[:,3].take(np.where((op[:,4]==1))),return_counts=True)\n",
    "a,b=k\n",
    "for i in a:\n",
    "    if (i==0):\n",
    "        print(\"female smokers are :\",b[0])\n",
    "    else:\n",
    "        print(\"male smokers are :\",b[1])    "
   ]
  }
 ],
 "metadata": {
  "kernelspec": {
   "display_name": "Python 3 (ipykernel)",
   "language": "python",
   "name": "python3"
  },
  "language_info": {
   "codemirror_mode": {
    "name": "ipython",
    "version": 3
   },
   "file_extension": ".py",
   "mimetype": "text/x-python",
   "name": "python",
   "nbconvert_exporter": "python",
   "pygments_lexer": "ipython3",
   "version": "3.11.3"
  }
 },
 "nbformat": 4,
 "nbformat_minor": 5
}
