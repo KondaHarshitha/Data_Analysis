{
 "cells": [
  {
   "cell_type": "code",
   "execution_count": 6,
   "id": "71433dcf",
   "metadata": {},
   "outputs": [],
   "source": [
    "import numpy as np"
   ]
  },
  {
   "cell_type": "code",
   "execution_count": 7,
   "id": "27302541",
   "metadata": {},
   "outputs": [],
   "source": [
    "op=np.genfromtxt(r\"C:\\Users\\DELL\\Downloads\\train_extended.csv\",delimiter=\",\",skip_header=1)"
   ]
  },
  {
   "cell_type": "markdown",
   "id": "e5ff694a",
   "metadata": {},
   "source": [
    "#  1.What is the max and min length"
   ]
  },
  {
   "cell_type": "code",
   "execution_count": 8,
   "id": "28d9daec",
   "metadata": {},
   "outputs": [
    {
     "data": {
      "text/plain": [
       "7.58349125"
      ]
     },
     "execution_count": 8,
     "metadata": {},
     "output_type": "execute_result"
    }
   ],
   "source": [
    "length=op[:,0]\n",
    "np.max(length)"
   ]
  },
  {
   "cell_type": "code",
   "execution_count": 9,
   "id": "bfe8481f",
   "metadata": {},
   "outputs": [
    {
     "data": {
      "text/plain": [
       "0.0"
      ]
     },
     "execution_count": 9,
     "metadata": {},
     "output_type": "execute_result"
    }
   ],
   "source": [
    "length=op[:,0]\n",
    "np.min(length)"
   ]
  },
  {
   "cell_type": "markdown",
   "id": "0142c839",
   "metadata": {},
   "source": [
    "# 2.What is the difference between the max len and min len"
   ]
  },
  {
   "cell_type": "code",
   "execution_count": 10,
   "id": "ae5a6ba4",
   "metadata": {},
   "outputs": [
    {
     "data": {
      "text/plain": [
       "7.58349125"
      ]
     },
     "execution_count": 10,
     "metadata": {},
     "output_type": "execute_result"
    }
   ],
   "source": [
    "np.max(length)-np.min(length)"
   ]
  },
  {
   "cell_type": "markdown",
   "id": "6d04c6e6",
   "metadata": {},
   "source": [
    "# 3.Find the col wise avg"
   ]
  },
  {
   "cell_type": "code",
   "execution_count": 11,
   "id": "2b5ae53e",
   "metadata": {},
   "outputs": [
    {
     "data": {
      "text/plain": [
       "array([ 1.31244808,  1.02032036,  0.34602787, 23.12343631,  9.98937025,\n",
       "        4.99318096,  6.63422915,  9.950615  ])"
      ]
     },
     "execution_count": 11,
     "metadata": {},
     "output_type": "execute_result"
    }
   ],
   "source": [
    "def f(x):\n",
    "    return np.mean(x)\n",
    "average=(np.apply_along_axis(f,0,op))\n",
    "average"
   ]
  },
  {
   "cell_type": "markdown",
   "id": "5f5fb8c5",
   "metadata": {},
   "source": [
    "# 4.find out the age whose height is greater than 0.4"
   ]
  },
  {
   "cell_type": "code",
   "execution_count": 12,
   "id": "82cde9a6",
   "metadata": {},
   "outputs": [
    {
     "name": "stdout",
     "output_type": "stream",
     "text": [
      "(1, 55336)\n",
      "[[11. 14. 13. ... 11. 11. 11.]]\n"
     ]
    }
   ],
   "source": [
    "z=op[:,7].take(np.where(op[:,2]>0.4))\n",
    "print(z.shape)\n",
    "print(z)"
   ]
  },
  {
   "cell_type": "markdown",
   "id": "eca4e2c5",
   "metadata": {},
   "source": [
    "# 5.What is the avg height and weight of the person whose age is 10"
   ]
  },
  {
   "cell_type": "code",
   "execution_count": null,
   "id": "d49a7392",
   "metadata": {},
   "outputs": [],
   "source": []
  },
  {
   "cell_type": "markdown",
   "id": "6579c123",
   "metadata": {},
   "source": [
    "# 6.what is the total shell weight"
   ]
  },
  {
   "cell_type": "code",
   "execution_count": 20,
   "id": "122f19d1",
   "metadata": {},
   "outputs": [
    {
     "data": {
      "text/plain": [
       "1326845.8295214002"
      ]
     },
     "execution_count": 20,
     "metadata": {},
     "output_type": "execute_result"
    }
   ],
   "source": [
    "ShellWeight=op[:,6]\n",
    "np.sum(ShellWeight)"
   ]
  },
  {
   "cell_type": "markdown",
   "id": "45a2e24c",
   "metadata": {},
   "source": [
    "# 7.how many persons belong to the each and unique age"
   ]
  },
  {
   "cell_type": "code",
   "execution_count": 27,
   "id": "a25edf87",
   "metadata": {},
   "outputs": [
    {
     "data": {
      "text/plain": [
       "(array([ 1.,  2.,  3.,  4.,  5.,  6.,  7.,  8.,  9., 10., 11., 12., 13.,\n",
       "        14., 15., 16., 17., 18., 19., 20., 21., 22., 23., 24., 25., 26.,\n",
       "        27., 29.]),\n",
       " array([   46,    42,   625,  2787,  5475, 12450, 18276, 26818, 32906,\n",
       "        30803, 23457, 12717, 10037,  6352,  4831,  3191,  2705,  1953,\n",
       "         1591,  1206,   721,   296,   352,   110,    51,    46,    99,\n",
       "           57], dtype=int64))"
      ]
     },
     "execution_count": 27,
     "metadata": {},
     "output_type": "execute_result"
    }
   ],
   "source": [
    "Age=op[:,7]\n",
    "np.unique(Age,return_counts=True)"
   ]
  },
  {
   "cell_type": "markdown",
   "id": "f5157e7e",
   "metadata": {},
   "source": [
    "# 8.what is the difference stucked weight and the viscera weight "
   ]
  },
  {
   "cell_type": "code",
   "execution_count": 28,
   "id": "f0d483c3",
   "metadata": {},
   "outputs": [
    {
     "data": {
      "text/plain": [
       "array([5.9817445, 3.855532 , 4.1106775, ..., 2.9199985, 5.329706 ,\n",
       "       9.8372765])"
      ]
     },
     "execution_count": 28,
     "metadata": {},
     "output_type": "execute_result"
    }
   ],
   "source": [
    "shucked_weight=op[:,4]\n",
    "viscera_weight=op[:,5]\n",
    "difference=shucked_weight-viscera_weight\n",
    "difference"
   ]
  },
  {
   "cell_type": "markdown",
   "id": "307c916e",
   "metadata": {},
   "source": [
    "# 9.what is the avg height of the person whose age is b/w 14 and 19"
   ]
  },
  {
   "cell_type": "code",
   "execution_count": 14,
   "id": "f1440e5e",
   "metadata": {},
   "outputs": [
    {
     "name": "stdout",
     "output_type": "stream",
     "text": [
      "average height of the persons age is between 14 and 19 is  7.0\n"
     ]
    }
   ],
   "source": [
    "k=op.take(np.where((op[:,7]>14) & (op[:,7]<19)))\n",
    "sum=np.sum(k)\n",
    "count=list(k.shape)\n",
    "print(\"average height of the persons age is between 14 and 19 is \",np.round(sum/count[1]))"
   ]
  },
  {
   "cell_type": "markdown",
   "id": "221a8309",
   "metadata": {},
   "source": [
    "# 10.what is the avg weight if we include shucked weight viscera weight and shell weight"
   ]
  },
  {
   "cell_type": "code",
   "execution_count": 16,
   "id": "66febc3c",
   "metadata": {},
   "outputs": [
    {
     "name": "stdout",
     "output_type": "stream",
     "text": [
      "the average weight if we included shucked weight,viscara weight,and shell weight 8948043.333077429\n"
     ]
    }
   ],
   "source": [
    "k=np.sum(op[:,3:7])\n",
    "c=list(op.shape)\n",
    "print(\"the average weight if we included shucked weight,viscara weight,and shell weight\",k)"
   ]
  },
  {
   "cell_type": "code",
   "execution_count": null,
   "id": "d7dbdcf2",
   "metadata": {},
   "outputs": [],
   "source": []
  }
 ],
 "metadata": {
  "kernelspec": {
   "display_name": "Python 3 (ipykernel)",
   "language": "python",
   "name": "python3"
  },
  "language_info": {
   "codemirror_mode": {
    "name": "ipython",
    "version": 3
   },
   "file_extension": ".py",
   "mimetype": "text/x-python",
   "name": "python",
   "nbconvert_exporter": "python",
   "pygments_lexer": "ipython3",
   "version": "3.11.3"
  }
 },
 "nbformat": 4,
 "nbformat_minor": 5
}
